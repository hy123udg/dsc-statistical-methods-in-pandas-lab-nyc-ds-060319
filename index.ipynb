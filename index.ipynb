{
 "cells": [
  {
   "cell_type": "markdown",
   "metadata": {},
   "source": [
    "# Statistical Methods in Pandas - Lab"
   ]
  },
  {
   "cell_type": "markdown",
   "metadata": {},
   "source": [
    "## Introduction\n",
    "\n",
    "In this lesson you'll get some hands-on experience using some of the key summary statistics methods in Pandas."
   ]
  },
  {
   "cell_type": "markdown",
   "metadata": {},
   "source": [
    "## Objectives\n",
    "You will be able to:\n",
    "\n",
    "* Understand and use the df.describe() and df.info() summary statistics methods\n",
    "* Use built-in Pandas methods for calculating summary statistics (.mean(), .std(), .count(), .sum(), .mean(), .median(), .std(), .var() and .quantile())\n",
    "* Apply a function to every element in a Series or DataFrame using s.apply() and df.applymap()\n",
    "\n",
    "\n",
    "## Getting Started\n",
    "\n",
    "For this lab, we'll be working with a dataset containing information on various lego datasets.  You will find this dataset in the file `lego_sets.csv`.  \n",
    "\n",
    "In the cell below:\n",
    "\n",
    "* Import pandas and set the standard alias of `pd`\n",
    "* Load in the `lego_sets.csv` dataset using the `read_csv()` function\n",
    "* Display the head of the DataFrame to get a feel for what we'll be working with"
   ]
  },
  {
   "cell_type": "code",
   "execution_count": 3,
   "metadata": {},
   "outputs": [],
   "source": [
    "import pandas as pd\n",
    "df = pd.read_csv('lego_sets.csv')\n"
   ]
  },
  {
   "cell_type": "code",
   "execution_count": 4,
   "metadata": {},
   "outputs": [
    {
     "data": {
      "text/html": [
       "<div>\n",
       "<style scoped>\n",
       "    .dataframe tbody tr th:only-of-type {\n",
       "        vertical-align: middle;\n",
       "    }\n",
       "\n",
       "    .dataframe tbody tr th {\n",
       "        vertical-align: top;\n",
       "    }\n",
       "\n",
       "    .dataframe thead th {\n",
       "        text-align: right;\n",
       "    }\n",
       "</style>\n",
       "<table border=\"1\" class=\"dataframe\">\n",
       "  <thead>\n",
       "    <tr style=\"text-align: right;\">\n",
       "      <th></th>\n",
       "      <th>ages</th>\n",
       "      <th>list_price</th>\n",
       "      <th>num_reviews</th>\n",
       "      <th>piece_count</th>\n",
       "      <th>play_star_rating</th>\n",
       "      <th>prod_desc</th>\n",
       "      <th>prod_id</th>\n",
       "      <th>prod_long_desc</th>\n",
       "      <th>review_difficulty</th>\n",
       "      <th>set_name</th>\n",
       "      <th>star_rating</th>\n",
       "      <th>theme_name</th>\n",
       "      <th>val_star_rating</th>\n",
       "      <th>country</th>\n",
       "    </tr>\n",
       "  </thead>\n",
       "  <tbody>\n",
       "    <tr>\n",
       "      <th>0</th>\n",
       "      <td>6-12</td>\n",
       "      <td>29.99</td>\n",
       "      <td>2.0</td>\n",
       "      <td>277.0</td>\n",
       "      <td>4.0</td>\n",
       "      <td>Catapult into action and take back the eggs fr...</td>\n",
       "      <td>75823.0</td>\n",
       "      <td>Use the staircase catapult to launch Red into ...</td>\n",
       "      <td>Average</td>\n",
       "      <td>Bird Island Egg Heist</td>\n",
       "      <td>4.5</td>\n",
       "      <td>Angry Birds™</td>\n",
       "      <td>4.0</td>\n",
       "      <td>US</td>\n",
       "    </tr>\n",
       "    <tr>\n",
       "      <th>1</th>\n",
       "      <td>6-12</td>\n",
       "      <td>19.99</td>\n",
       "      <td>2.0</td>\n",
       "      <td>168.0</td>\n",
       "      <td>4.0</td>\n",
       "      <td>Launch a flying attack and rescue the eggs fro...</td>\n",
       "      <td>75822.0</td>\n",
       "      <td>Pilot Pig has taken off from Bird Island with ...</td>\n",
       "      <td>Easy</td>\n",
       "      <td>Piggy Plane Attack</td>\n",
       "      <td>5.0</td>\n",
       "      <td>Angry Birds™</td>\n",
       "      <td>4.0</td>\n",
       "      <td>US</td>\n",
       "    </tr>\n",
       "    <tr>\n",
       "      <th>2</th>\n",
       "      <td>6-12</td>\n",
       "      <td>12.99</td>\n",
       "      <td>11.0</td>\n",
       "      <td>74.0</td>\n",
       "      <td>4.3</td>\n",
       "      <td>Chase the piggy with lightning-fast Chuck and ...</td>\n",
       "      <td>75821.0</td>\n",
       "      <td>Pitch speedy bird Chuck against the Piggy Car....</td>\n",
       "      <td>Easy</td>\n",
       "      <td>Piggy Car Escape</td>\n",
       "      <td>4.3</td>\n",
       "      <td>Angry Birds™</td>\n",
       "      <td>4.1</td>\n",
       "      <td>US</td>\n",
       "    </tr>\n",
       "    <tr>\n",
       "      <th>3</th>\n",
       "      <td>12+</td>\n",
       "      <td>99.99</td>\n",
       "      <td>23.0</td>\n",
       "      <td>1032.0</td>\n",
       "      <td>3.6</td>\n",
       "      <td>Explore the architecture of the United States ...</td>\n",
       "      <td>21030.0</td>\n",
       "      <td>Discover the architectural secrets of the icon...</td>\n",
       "      <td>Average</td>\n",
       "      <td>United States Capitol Building</td>\n",
       "      <td>4.6</td>\n",
       "      <td>Architecture</td>\n",
       "      <td>4.3</td>\n",
       "      <td>US</td>\n",
       "    </tr>\n",
       "    <tr>\n",
       "      <th>4</th>\n",
       "      <td>12+</td>\n",
       "      <td>79.99</td>\n",
       "      <td>14.0</td>\n",
       "      <td>744.0</td>\n",
       "      <td>3.2</td>\n",
       "      <td>Recreate the Solomon R. Guggenheim Museum® wit...</td>\n",
       "      <td>21035.0</td>\n",
       "      <td>Discover the architectural secrets of Frank Ll...</td>\n",
       "      <td>Challenging</td>\n",
       "      <td>Solomon R. Guggenheim Museum®</td>\n",
       "      <td>4.6</td>\n",
       "      <td>Architecture</td>\n",
       "      <td>4.1</td>\n",
       "      <td>US</td>\n",
       "    </tr>\n",
       "  </tbody>\n",
       "</table>\n",
       "</div>"
      ],
      "text/plain": [
       "   ages  list_price  num_reviews  piece_count  play_star_rating  \\\n",
       "0  6-12       29.99          2.0        277.0               4.0   \n",
       "1  6-12       19.99          2.0        168.0               4.0   \n",
       "2  6-12       12.99         11.0         74.0               4.3   \n",
       "3   12+       99.99         23.0       1032.0               3.6   \n",
       "4   12+       79.99         14.0        744.0               3.2   \n",
       "\n",
       "                                           prod_desc  prod_id  \\\n",
       "0  Catapult into action and take back the eggs fr...  75823.0   \n",
       "1  Launch a flying attack and rescue the eggs fro...  75822.0   \n",
       "2  Chase the piggy with lightning-fast Chuck and ...  75821.0   \n",
       "3  Explore the architecture of the United States ...  21030.0   \n",
       "4  Recreate the Solomon R. Guggenheim Museum® wit...  21035.0   \n",
       "\n",
       "                                      prod_long_desc review_difficulty  \\\n",
       "0  Use the staircase catapult to launch Red into ...           Average   \n",
       "1  Pilot Pig has taken off from Bird Island with ...              Easy   \n",
       "2  Pitch speedy bird Chuck against the Piggy Car....              Easy   \n",
       "3  Discover the architectural secrets of the icon...           Average   \n",
       "4  Discover the architectural secrets of Frank Ll...       Challenging   \n",
       "\n",
       "                         set_name  star_rating    theme_name  val_star_rating  \\\n",
       "0           Bird Island Egg Heist          4.5  Angry Birds™              4.0   \n",
       "1              Piggy Plane Attack          5.0  Angry Birds™              4.0   \n",
       "2                Piggy Car Escape          4.3  Angry Birds™              4.1   \n",
       "3  United States Capitol Building          4.6  Architecture              4.3   \n",
       "4   Solomon R. Guggenheim Museum®          4.6  Architecture              4.1   \n",
       "\n",
       "  country  \n",
       "0      US  \n",
       "1      US  \n",
       "2      US  \n",
       "3      US  \n",
       "4      US  "
      ]
     },
     "execution_count": 4,
     "metadata": {},
     "output_type": "execute_result"
    }
   ],
   "source": [
    "df.head()"
   ]
  },
  {
   "cell_type": "markdown",
   "metadata": {},
   "source": [
    "## Getting DataFrame-Level Statistics\n",
    "\n",
    "We'll begin by getting some overall summary statistics on the dataset.  There are two ways we'll get this information-- `.info()` and `.describe()`.\n",
    "\n",
    "### Using `.info()`\n",
    "\n",
    "The `.info()` method provides us metadata on the DataFrame itself.  This allows to answer questions such as:\n",
    "\n",
    "* What data type does each column contain?\n",
    "* How many rows are in my dataset? \n",
    "* How many total non-missing values does each column contain?\n",
    "* How much memory does the DataFrame take up?\n",
    "\n",
    "In the cell below, call our DataFrame's `.info()` method. "
   ]
  },
  {
   "cell_type": "code",
   "execution_count": 5,
   "metadata": {},
   "outputs": [
    {
     "name": "stdout",
     "output_type": "stream",
     "text": [
      "<class 'pandas.core.frame.DataFrame'>\n",
      "RangeIndex: 12261 entries, 0 to 12260\n",
      "Data columns (total 14 columns):\n",
      "ages                 12261 non-null object\n",
      "list_price           12261 non-null float64\n",
      "num_reviews          10641 non-null float64\n",
      "piece_count          12261 non-null float64\n",
      "play_star_rating     10486 non-null float64\n",
      "prod_desc            11884 non-null object\n",
      "prod_id              12261 non-null float64\n",
      "prod_long_desc       12261 non-null object\n",
      "review_difficulty    10206 non-null object\n",
      "set_name             12261 non-null object\n",
      "star_rating          10641 non-null float64\n",
      "theme_name           12258 non-null object\n",
      "val_star_rating      10466 non-null float64\n",
      "country              12261 non-null object\n",
      "dtypes: float64(7), object(7)\n",
      "memory usage: 1.3+ MB\n"
     ]
    }
   ],
   "source": [
    "df.info()"
   ]
  },
  {
   "cell_type": "markdown",
   "metadata": {},
   "source": [
    "#### Interpreting the Results\n",
    "\n",
    "Read the output above, and then answer the following questions:\n",
    "\n",
    "How many total rows are in this DataFrame?  How many columns contain numeric data? How many contain categorical data?  Identify at least 3 columns that contain missing values. \n",
    "\n",
    "Write your answer below this line:\n",
    "________________________________________________________________________________________________________________________________\n",
    "\n"
   ]
  },
  {
   "cell_type": "markdown",
   "metadata": {},
   "source": [
    "Answer question here..."
   ]
  },
  {
   "cell_type": "markdown",
   "metadata": {},
   "source": [
    "## Using `.describe()`\n",
    "\n",
    "Whereas `.info()` provides statistics about the DataFrame itself, `.describe()` returns output containing basic summary statistics about the data contained with the DataFrame.  \n",
    "\n",
    "In the cell below, call the DataFrame's `.describe()` method. "
   ]
  },
  {
   "cell_type": "code",
   "execution_count": 6,
   "metadata": {},
   "outputs": [
    {
     "data": {
      "text/html": [
       "<div>\n",
       "<style scoped>\n",
       "    .dataframe tbody tr th:only-of-type {\n",
       "        vertical-align: middle;\n",
       "    }\n",
       "\n",
       "    .dataframe tbody tr th {\n",
       "        vertical-align: top;\n",
       "    }\n",
       "\n",
       "    .dataframe thead th {\n",
       "        text-align: right;\n",
       "    }\n",
       "</style>\n",
       "<table border=\"1\" class=\"dataframe\">\n",
       "  <thead>\n",
       "    <tr style=\"text-align: right;\">\n",
       "      <th></th>\n",
       "      <th>ages</th>\n",
       "      <th>list_price</th>\n",
       "      <th>num_reviews</th>\n",
       "      <th>piece_count</th>\n",
       "      <th>play_star_rating</th>\n",
       "      <th>prod_desc</th>\n",
       "      <th>prod_id</th>\n",
       "      <th>prod_long_desc</th>\n",
       "      <th>review_difficulty</th>\n",
       "      <th>set_name</th>\n",
       "      <th>star_rating</th>\n",
       "      <th>theme_name</th>\n",
       "      <th>val_star_rating</th>\n",
       "      <th>country</th>\n",
       "    </tr>\n",
       "  </thead>\n",
       "  <tbody>\n",
       "    <tr>\n",
       "      <th>count</th>\n",
       "      <td>12261</td>\n",
       "      <td>12261.000000</td>\n",
       "      <td>10641.000000</td>\n",
       "      <td>12261.000000</td>\n",
       "      <td>10486.000000</td>\n",
       "      <td>11884</td>\n",
       "      <td>1.226100e+04</td>\n",
       "      <td>12261</td>\n",
       "      <td>10206</td>\n",
       "      <td>12261</td>\n",
       "      <td>10641.000000</td>\n",
       "      <td>12258</td>\n",
       "      <td>10466.000000</td>\n",
       "      <td>12261</td>\n",
       "    </tr>\n",
       "    <tr>\n",
       "      <th>unique</th>\n",
       "      <td>31</td>\n",
       "      <td>NaN</td>\n",
       "      <td>NaN</td>\n",
       "      <td>NaN</td>\n",
       "      <td>NaN</td>\n",
       "      <td>731</td>\n",
       "      <td>NaN</td>\n",
       "      <td>988</td>\n",
       "      <td>5</td>\n",
       "      <td>741</td>\n",
       "      <td>NaN</td>\n",
       "      <td>40</td>\n",
       "      <td>NaN</td>\n",
       "      <td>21</td>\n",
       "    </tr>\n",
       "    <tr>\n",
       "      <th>top</th>\n",
       "      <td>6-12</td>\n",
       "      <td>NaN</td>\n",
       "      <td>NaN</td>\n",
       "      <td>NaN</td>\n",
       "      <td>NaN</td>\n",
       "      <td>Growl like a Wookiee with a LEGO® BrickHeadz™ ...</td>\n",
       "      <td>NaN</td>\n",
       "      <td>Stage a face-off between Batgirl™ and Harley Q...</td>\n",
       "      <td>Easy</td>\n",
       "      <td>Chewbacca™</td>\n",
       "      <td>NaN</td>\n",
       "      <td>Star Wars™</td>\n",
       "      <td>NaN</td>\n",
       "      <td>US</td>\n",
       "    </tr>\n",
       "    <tr>\n",
       "      <th>freq</th>\n",
       "      <td>1476</td>\n",
       "      <td>NaN</td>\n",
       "      <td>NaN</td>\n",
       "      <td>NaN</td>\n",
       "      <td>NaN</td>\n",
       "      <td>42</td>\n",
       "      <td>NaN</td>\n",
       "      <td>42</td>\n",
       "      <td>4236</td>\n",
       "      <td>63</td>\n",
       "      <td>NaN</td>\n",
       "      <td>1377</td>\n",
       "      <td>NaN</td>\n",
       "      <td>817</td>\n",
       "    </tr>\n",
       "    <tr>\n",
       "      <th>mean</th>\n",
       "      <td>NaN</td>\n",
       "      <td>65.141998</td>\n",
       "      <td>16.826238</td>\n",
       "      <td>493.405921</td>\n",
       "      <td>4.337641</td>\n",
       "      <td>NaN</td>\n",
       "      <td>5.983675e+04</td>\n",
       "      <td>NaN</td>\n",
       "      <td>NaN</td>\n",
       "      <td>NaN</td>\n",
       "      <td>4.514134</td>\n",
       "      <td>NaN</td>\n",
       "      <td>4.228960</td>\n",
       "      <td>NaN</td>\n",
       "    </tr>\n",
       "    <tr>\n",
       "      <th>std</th>\n",
       "      <td>NaN</td>\n",
       "      <td>91.980429</td>\n",
       "      <td>36.368984</td>\n",
       "      <td>825.364580</td>\n",
       "      <td>0.652051</td>\n",
       "      <td>NaN</td>\n",
       "      <td>1.638115e+05</td>\n",
       "      <td>NaN</td>\n",
       "      <td>NaN</td>\n",
       "      <td>NaN</td>\n",
       "      <td>0.518865</td>\n",
       "      <td>NaN</td>\n",
       "      <td>0.660282</td>\n",
       "      <td>NaN</td>\n",
       "    </tr>\n",
       "    <tr>\n",
       "      <th>min</th>\n",
       "      <td>NaN</td>\n",
       "      <td>2.272400</td>\n",
       "      <td>1.000000</td>\n",
       "      <td>1.000000</td>\n",
       "      <td>1.000000</td>\n",
       "      <td>NaN</td>\n",
       "      <td>6.300000e+02</td>\n",
       "      <td>NaN</td>\n",
       "      <td>NaN</td>\n",
       "      <td>NaN</td>\n",
       "      <td>1.800000</td>\n",
       "      <td>NaN</td>\n",
       "      <td>1.000000</td>\n",
       "      <td>NaN</td>\n",
       "    </tr>\n",
       "    <tr>\n",
       "      <th>25%</th>\n",
       "      <td>NaN</td>\n",
       "      <td>19.990000</td>\n",
       "      <td>2.000000</td>\n",
       "      <td>97.000000</td>\n",
       "      <td>4.000000</td>\n",
       "      <td>NaN</td>\n",
       "      <td>2.103400e+04</td>\n",
       "      <td>NaN</td>\n",
       "      <td>NaN</td>\n",
       "      <td>NaN</td>\n",
       "      <td>4.300000</td>\n",
       "      <td>NaN</td>\n",
       "      <td>4.000000</td>\n",
       "      <td>NaN</td>\n",
       "    </tr>\n",
       "    <tr>\n",
       "      <th>50%</th>\n",
       "      <td>NaN</td>\n",
       "      <td>36.587800</td>\n",
       "      <td>6.000000</td>\n",
       "      <td>216.000000</td>\n",
       "      <td>4.500000</td>\n",
       "      <td>NaN</td>\n",
       "      <td>4.206900e+04</td>\n",
       "      <td>NaN</td>\n",
       "      <td>NaN</td>\n",
       "      <td>NaN</td>\n",
       "      <td>4.700000</td>\n",
       "      <td>NaN</td>\n",
       "      <td>4.300000</td>\n",
       "      <td>NaN</td>\n",
       "    </tr>\n",
       "    <tr>\n",
       "      <th>75%</th>\n",
       "      <td>NaN</td>\n",
       "      <td>70.192200</td>\n",
       "      <td>13.000000</td>\n",
       "      <td>544.000000</td>\n",
       "      <td>4.800000</td>\n",
       "      <td>NaN</td>\n",
       "      <td>7.092200e+04</td>\n",
       "      <td>NaN</td>\n",
       "      <td>NaN</td>\n",
       "      <td>NaN</td>\n",
       "      <td>5.000000</td>\n",
       "      <td>NaN</td>\n",
       "      <td>4.700000</td>\n",
       "      <td>NaN</td>\n",
       "    </tr>\n",
       "    <tr>\n",
       "      <th>max</th>\n",
       "      <td>NaN</td>\n",
       "      <td>1104.870000</td>\n",
       "      <td>367.000000</td>\n",
       "      <td>7541.000000</td>\n",
       "      <td>5.000000</td>\n",
       "      <td>NaN</td>\n",
       "      <td>2.000431e+06</td>\n",
       "      <td>NaN</td>\n",
       "      <td>NaN</td>\n",
       "      <td>NaN</td>\n",
       "      <td>5.000000</td>\n",
       "      <td>NaN</td>\n",
       "      <td>5.000000</td>\n",
       "      <td>NaN</td>\n",
       "    </tr>\n",
       "  </tbody>\n",
       "</table>\n",
       "</div>"
      ],
      "text/plain": [
       "         ages    list_price   num_reviews   piece_count  play_star_rating  \\\n",
       "count   12261  12261.000000  10641.000000  12261.000000      10486.000000   \n",
       "unique     31           NaN           NaN           NaN               NaN   \n",
       "top      6-12           NaN           NaN           NaN               NaN   \n",
       "freq     1476           NaN           NaN           NaN               NaN   \n",
       "mean      NaN     65.141998     16.826238    493.405921          4.337641   \n",
       "std       NaN     91.980429     36.368984    825.364580          0.652051   \n",
       "min       NaN      2.272400      1.000000      1.000000          1.000000   \n",
       "25%       NaN     19.990000      2.000000     97.000000          4.000000   \n",
       "50%       NaN     36.587800      6.000000    216.000000          4.500000   \n",
       "75%       NaN     70.192200     13.000000    544.000000          4.800000   \n",
       "max       NaN   1104.870000    367.000000   7541.000000          5.000000   \n",
       "\n",
       "                                                prod_desc       prod_id  \\\n",
       "count                                               11884  1.226100e+04   \n",
       "unique                                                731           NaN   \n",
       "top     Growl like a Wookiee with a LEGO® BrickHeadz™ ...           NaN   \n",
       "freq                                                   42           NaN   \n",
       "mean                                                  NaN  5.983675e+04   \n",
       "std                                                   NaN  1.638115e+05   \n",
       "min                                                   NaN  6.300000e+02   \n",
       "25%                                                   NaN  2.103400e+04   \n",
       "50%                                                   NaN  4.206900e+04   \n",
       "75%                                                   NaN  7.092200e+04   \n",
       "max                                                   NaN  2.000431e+06   \n",
       "\n",
       "                                           prod_long_desc review_difficulty  \\\n",
       "count                                               12261             10206   \n",
       "unique                                                988                 5   \n",
       "top     Stage a face-off between Batgirl™ and Harley Q...              Easy   \n",
       "freq                                                   42              4236   \n",
       "mean                                                  NaN               NaN   \n",
       "std                                                   NaN               NaN   \n",
       "min                                                   NaN               NaN   \n",
       "25%                                                   NaN               NaN   \n",
       "50%                                                   NaN               NaN   \n",
       "75%                                                   NaN               NaN   \n",
       "max                                                   NaN               NaN   \n",
       "\n",
       "          set_name   star_rating  theme_name  val_star_rating country  \n",
       "count        12261  10641.000000       12258     10466.000000   12261  \n",
       "unique         741           NaN          40              NaN      21  \n",
       "top     Chewbacca™           NaN  Star Wars™              NaN      US  \n",
       "freq            63           NaN        1377              NaN     817  \n",
       "mean           NaN      4.514134         NaN         4.228960     NaN  \n",
       "std            NaN      0.518865         NaN         0.660282     NaN  \n",
       "min            NaN      1.800000         NaN         1.000000     NaN  \n",
       "25%            NaN      4.300000         NaN         4.000000     NaN  \n",
       "50%            NaN      4.700000         NaN         4.300000     NaN  \n",
       "75%            NaN      5.000000         NaN         4.700000     NaN  \n",
       "max            NaN      5.000000         NaN         5.000000     NaN  "
      ]
     },
     "execution_count": 6,
     "metadata": {},
     "output_type": "execute_result"
    }
   ],
   "source": [
    "df.describe(include = 'all')"
   ]
  },
  {
   "cell_type": "markdown",
   "metadata": {},
   "source": [
    "#### Interpreting the Results\n",
    "\n",
    "The output contains descriptive statistics corresponding to the columns.  Use these to answer the following questions:\n",
    "\n",
    "How much is the standard deviation for piece count?  How many pieces are in the largest lego set?  How many in the smallest lego set? What is the median `val_star_rating`?\n",
    "\n",
    "________________________________________________________________________________________________________________________________"
   ]
  },
  {
   "cell_type": "markdown",
   "metadata": {},
   "source": [
    "Answer questions here..."
   ]
  },
  {
   "cell_type": "markdown",
   "metadata": {},
   "source": [
    "## Getting Summary Statistics\n",
    "\n",
    "Pandas also allows us to easily compute individual summary statistics using built-in methods.  Next, we'll get some practice using these methods. \n",
    "\n",
    "In the cell below, compute the median value of the `star_rating` column."
   ]
  },
  {
   "cell_type": "code",
   "execution_count": 7,
   "metadata": {},
   "outputs": [
    {
     "data": {
      "text/plain": [
       "4.7"
      ]
     },
     "execution_count": 7,
     "metadata": {},
     "output_type": "execute_result"
    }
   ],
   "source": [
    "df.star_rating.median()"
   ]
  },
  {
   "cell_type": "markdown",
   "metadata": {},
   "source": [
    "Next, get a count of the total number of values in `play_star_rating`."
   ]
  },
  {
   "cell_type": "code",
   "execution_count": 8,
   "metadata": {},
   "outputs": [
    {
     "data": {
      "text/plain": [
       "10486"
      ]
     },
     "execution_count": 8,
     "metadata": {},
     "output_type": "execute_result"
    }
   ],
   "source": [
    "df.play_star_rating.value_counts().sum()"
   ]
  },
  {
   "cell_type": "markdown",
   "metadata": {},
   "source": [
    "Now, compute the standard deviation of the `list_price` column."
   ]
  },
  {
   "cell_type": "code",
   "execution_count": 9,
   "metadata": {},
   "outputs": [
    {
     "data": {
      "text/plain": [
       "91.9804293059243"
      ]
     },
     "execution_count": 9,
     "metadata": {},
     "output_type": "execute_result"
    }
   ],
   "source": [
    "df.list_price.std()"
   ]
  },
  {
   "cell_type": "markdown",
   "metadata": {},
   "source": [
    "If we bought every single lego set in this dataset, how many pieces would we have?  Use the `.sum()` method on the correct column to compute this. "
   ]
  },
  {
   "cell_type": "code",
   "execution_count": 10,
   "metadata": {},
   "outputs": [
    {
     "data": {
      "text/plain": [
       "6049650.0"
      ]
     },
     "execution_count": 10,
     "metadata": {},
     "output_type": "execute_result"
    }
   ],
   "source": [
    "df.piece_count.sum()"
   ]
  },
  {
   "cell_type": "markdown",
   "metadata": {},
   "source": [
    "Now, let's try getting the value for the 90% quantile.  Do this in the cell below."
   ]
  },
  {
   "cell_type": "code",
   "execution_count": 11,
   "metadata": {},
   "outputs": [
    {
     "data": {
      "text/plain": [
       "list_price             10.1322\n",
       "num_reviews             1.0000\n",
       "piece_count            15.0000\n",
       "play_star_rating        3.0000\n",
       "prod_id             10693.0000\n",
       "star_rating             3.5000\n",
       "val_star_rating         3.0000\n",
       "Name: 0.05, dtype: float64"
      ]
     },
     "execution_count": 11,
     "metadata": {},
     "output_type": "execute_result"
    }
   ],
   "source": [
    "df.quantile(q=.05)"
   ]
  },
  {
   "cell_type": "markdown",
   "metadata": {},
   "source": [
    "## Getting Summary Statistics on Categorical Data\n",
    "\n",
    "For obvious reasons, most of the methods we've used so far only work with numerical data--there's no way to calculate the standard deviation of a column containing string values. However, there are some things that we can discover about columns containing categorical data. \n",
    "\n",
    "In the cell below, get the `.unique()` values contained within the `review_difficulty` column. "
   ]
  },
  {
   "cell_type": "code",
   "execution_count": 12,
   "metadata": {},
   "outputs": [
    {
     "data": {
      "text/plain": [
       "array(['Average', 'Easy', 'Challenging', 'Very Easy', nan,\n",
       "       'Very Challenging'], dtype=object)"
      ]
     },
     "execution_count": 12,
     "metadata": {},
     "output_type": "execute_result"
    }
   ],
   "source": [
    "df.review_difficulty.unique()"
   ]
  },
  {
   "cell_type": "markdown",
   "metadata": {},
   "source": [
    "Now, let's get the `value_counts` for this column, to see how common each is. "
   ]
  },
  {
   "cell_type": "code",
   "execution_count": 13,
   "metadata": {},
   "outputs": [
    {
     "data": {
      "text/plain": [
       "Easy                4236\n",
       "Average             3765\n",
       "Very Easy           1139\n",
       "Challenging         1058\n",
       "Very Challenging       8\n",
       "Name: review_difficulty, dtype: int64"
      ]
     },
     "execution_count": 13,
     "metadata": {},
     "output_type": "execute_result"
    }
   ],
   "source": [
    "df.review_difficulty.value_counts()"
   ]
  },
  {
   "cell_type": "markdown",
   "metadata": {},
   "source": [
    "As you can see, these provide us quick and easy ways to get information on columns containing categorical information.  \n",
    "\n",
    "\n",
    "## Using `.applymap()`\n",
    "\n",
    "When working with pandas DataFrames, we can quickly compute functions on the data contained by using the `applymap()` function and passing in a lambda function. \n",
    "\n",
    "For instance, we can use `applymap()` to return a version of the DataFrame where every value has been converted to a string.\n",
    "\n",
    "In the cell below:\n",
    "\n",
    "* Call our DataFrame's `.applymap()` function and pass in `lambda x: str(x)`\n",
    "* Call our new `string_df` object's `.info()` method to confirm that everything has been cast to a string"
   ]
  },
  {
   "cell_type": "code",
   "execution_count": 14,
   "metadata": {},
   "outputs": [
    {
     "data": {
      "text/plain": [
       "\"       ages  list_price  num_reviews  piece_count  play_star_rating  \\\\\\n0      6-12     29.9900          2.0        277.0               4.0   \\n1      6-12     19.9900          2.0        168.0               4.0   \\n2      6-12     12.9900         11.0         74.0               4.3   \\n3       12+     99.9900         23.0       1032.0               3.6   \\n4       12+     79.9900         14.0        744.0               3.2   \\n5       12+     59.9900          7.0        597.0               3.7   \\n6       12+     59.9900         37.0        598.0               3.7   \\n7       12+     49.9900         24.0        780.0               4.4   \\n8       12+     39.9900         23.0        468.0               3.6   \\n9       12+     39.9900         11.0        444.0               3.6   \\n10      12+     39.9900         14.0        386.0               4.1   \\n11      12+     34.9900         53.0        321.0               3.2   \\n12      12+     29.9900          7.0        361.0               4.2   \\n13     7-12    159.9900         63.0        847.0               3.8   \\n14      10+     29.9900         13.0        708.0               4.7   \\n15      10+     19.9900          1.0        234.0               3.0   \\n16      10+     19.9900          1.0        160.0               5.0   \\n17      10+      9.9900          1.0        149.0               2.0   \\n18      10+      9.9900          1.0        141.0               2.0   \\n19      10+      9.9900          3.0        101.0               4.0   \\n20      10+      9.9900          2.0        105.0               3.0   \\n21      10+      9.9900          1.0        113.0               5.0   \\n22      10+      9.9900          1.0        136.0               NaN   \\n23      10+      9.9900          2.0         91.0               3.0   \\n24      10+      9.9900          7.0        140.0               3.2   \\n25      10+      9.9900          5.0        143.0               4.6   \\n26      10+      9.9900          3.0        122.0               2.7   \\n27      10+      9.9900          5.0        130.0               4.3   \\n28      10+      9.9900          3.0        119.0               4.5   \\n29      10+      9.9900          1.0        135.0               1.0   \\n...     ...         ...          ...          ...               ...   \\n12231  7-14     48.7878          5.0        267.0               3.6   \\n12232  7-14     48.7878         12.0        293.0               4.9   \\n12233  8-14     42.6878         24.0        305.0               4.5   \\n12234  7-14     42.6878         18.0        254.0               4.2   \\n12235  7-14     30.4878          2.0        198.0               4.0   \\n12236  7-14     30.4878          8.0        204.0               4.1   \\n12237  7-14     30.4878         19.0        201.0               4.1   \\n12238  6-12     18.2878          7.0        141.0               4.0   \\n12239  6-12     18.2878         18.0        124.0               4.5   \\n12240    5+      4.8678         13.0          8.0               4.3   \\n12241  8-14    103.6878          9.0        643.0               4.4   \\n12242   16+    365.9878         88.0       4867.0               4.8   \\n12243  9-14    225.6878         52.0       2295.0               4.7   \\n12244  9-14    134.1878         15.0       1403.0               4.5   \\n12245  9-14    103.6878          9.0        830.0               4.6   \\n12246  9-14    103.6878         11.0       1202.0               4.7   \\n12247  9-14     97.5878          6.0        914.0               4.8   \\n12248  9-14     97.5878         19.0        944.0               3.6   \\n12249  9-14     82.9478          8.0        876.0               4.7   \\n12250  8-14     73.1878          8.0        747.0               4.3   \\n12251  8-14     60.9878          7.0        521.0               4.7   \\n12252  8-14     60.9878         29.0        544.0               4.6   \\n12253  8-14     48.7878         21.0        494.0               4.6   \\n12254  7-14     36.5878         10.0        312.0               3.5   \\n12255  8-14     36.5878          8.0        341.0               4.2   \\n12256  7-14     36.5878          6.0        341.0               4.4   \\n12257  7-14     24.3878          8.0        217.0               4.1   \\n12258  7-14     24.3878         18.0        233.0               4.6   \\n12259  6-14     12.1878          1.0         48.0               5.0   \\n12260  6-14     12.1878         11.0        109.0               4.5   \\n\\n                                               prod_desc  prod_id  \\\\\\n0      Catapult into action and take back the eggs fr...  75823.0   \\n1      Launch a flying attack and rescue the eggs fro...  75822.0   \\n2      Chase the piggy with lightning-fast Chuck and ...  75821.0   \\n3      Explore the architecture of the United States ...  21030.0   \\n4      Recreate the Solomon R. Guggenheim Museum® wit...  21035.0   \\n5      Celebrate Shanghai with this LEGO® Architectur...  21039.0   \\n6      Celebrate New York City with this LEGO® Archit...  21028.0   \\n7      Recreate Buckingham Palace with LEGO® Architec...  21029.0   \\n8      Celebrate London with this LEGO® Architecture ...  21034.0   \\n9      Celebrate Chicago with this LEGO® Architecture...  21033.0   \\n10       Experience the grandeur of the Arc de Triomphe!  21036.0   \\n11     Build your own LEGO® interpretation of the ico...  21019.0   \\n12     Celebrate Sydney with this LEGO® Architecture ...  21032.0   \\n13                   Bring your LEGO® creations to life!  17101.0   \\n14         Build a LEGO® BrickHeadz version of yourself!  41597.0   \\n15     Train a raptor with LEGO® BrickHeadz™ Owen and...  41614.0   \\n16     Join Mr. Incredible and Frozone for LEGO® Bric...  41613.0   \\n17     Growl like a Wookiee with a LEGO® BrickHeadz™ ...  41609.0   \\n18     Be a rogue with a LEGO® BrickHeadz™ constructi...  41608.0   \\n19     Save the universe with LEGO® BrickHeadz Iron M...  41604.0   \\n20     Feel the power of Infinity with LEGO® BrickHea...  41605.0   \\n21     Be a legendary outlaw with LEGO® BrickHeadz St...  41606.0   \\n22     Master the skills of a green-skinned assassin ...  41607.0   \\n23     Join the Resistance with a LEGO® BrickHeadz co...  41485.0   \\n24     Say “I love you” with a LEGO® BrickHeadz™ Vale...  40270.0   \\n25       Stand tall with LEGO® BrickHeadz Wonder Woman™!  41599.0   \\n26     Live life in the fast lane with LEGO® BrickHea...  41598.0   \\n27     Summon the dark side with a LEGO® BrickHeadz c...  41603.0   \\n28     Feel the Force with a LEGO® BrickHeadz constru...  41602.0   \\n29               Dive in with LEGO® BrickHeadz Aquaman™!  41600.0   \\n...                                                  ...      ...   \\n12231               Party on with Superman™ and friends!  70919.0   \\n12232              Join Batman™ in a comical food fight!  70920.0   \\n12233  Put the heat on The Penguin™ Arctic Roller wit...  70911.0   \\n12234  Battle with Batman™ against The Riddler™ and h...  70903.0   \\n12235  Bring down Captain Boomerang™ with Batman’s Ba...  70918.0   \\n12236  Help Batman™ to stop Scarecrow™ delivering a s...  70910.0   \\n12237  Protect the power plant from Mr. Freeze’s ice ...  70901.0   \\n12238  Power into the sky to stop Scarecrow’s fear ga...  70913.0   \\n12239             Help Batman™ stop The Joker™ escaping!  70900.0   \\n12240  Discover new heroes and villains in LEGO® Mini...  71020.0   \\n12241           Launch a space mission from the Batcave!  70923.0   \\n12242         Live the life of a ninja in NINJAGO® City!  70620.0   \\n12243            Join the ninja aboard Wu’s flying ship!  70618.0   \\n12244                 Evade the traps inside the Temple!  70617.0   \\n12245  Defend NINJAGO® City from Garmadon Shark Mech ...  70656.0   \\n12246   Turn sound into a weapon with Cole’s Quake Mech!  70632.0   \\n12247       Take on the shark army with Zane’s Ice Tank!  70616.0   \\n12248  Put the heat on the shark army with Kai’s Fire...  70615.0   \\n12249      Speed to the rescue with Jay’s Lightning Jet!  70614.0   \\n12250      Defend NINJAGO® City against Garma Mecha Man!  70613.0   \\n12251       Get all fired up at Garmadon’s Volcano Lair!  70631.0   \\n12252  Take on Garmadon with the Green Ninja Mech Dra...  70612.0   \\n12253  Smash the shark army out of the water with the...  70611.0   \\n12254  Battle against evil Jungle Garmadon on the jun...  70608.0   \\n12255  Take on the tentacular Flying Jelly Sub with Jay!  70610.0   \\n12256  Protect NINJAGO® City from flying Manta Ray Bo...  70609.0   \\n12257         Stop a Piranha Attack with Kai and Misako!  70629.0   \\n12258   Stop a crime in the NINJAGO® City street market!  70607.0   \\n12259  Achieve Spinjitzu greatness with the Green Ninja!  70628.0   \\n12260  Practice your Spinjitzu skills with Kai and Zane!  70606.0   \\n\\n                                          prod_long_desc review_difficulty  \\\\\\n0      Use the staircase catapult to launch Red into ...           Average   \\n1      Pilot Pig has taken off from Bird Island with ...              Easy   \\n2      Pitch speedy bird Chuck against the Piggy Car....              Easy   \\n3      Discover the architectural secrets of the icon...           Average   \\n4      Discover the architectural secrets of Frank Ll...       Challenging   \\n5      Recreate Shanghai in China's blend of historic...           Average   \\n6      Celebrate the architectural diversity of New Y...           Average   \\n7      Build a LEGO® brick model of London's official...           Average   \\n8      Celebrate the architectural diversity of Londo...           Average   \\n9      Recreate Chicago’s blend of historical and mod...           Average   \\n10     Capture the architectural elegance of one of t...           Average   \\n11     Presenting the LEGO® Architecture interpretati...           Average   \\n12     Capture the architectural essence and splendor...              Easy   \\n13     Take your LEGO® play to the next level with th...           Average   \\n14     Fuel your creativity by making a LEGO® BrickHe...           Average   \\n15     These LEGO® BrickHeadz™ 41614 Owen & Blue cons...              Easy   \\n16     These LEGO® BrickHeadz™ 41613 Mr. Incredible &...         Very Easy   \\n17     This LEGO® BrickHeadz™ 41609 Chewbacca is fun ...         Very Easy   \\n18     This LEGO® BrickHeadz™ 41608 Han Solo is fun t...         Very Easy   \\n19     This Iron Man MK50 LEGO® BrickHeadz constructi...           Average   \\n20     This Thanos LEGO® BrickHeadz construction char...              Easy   \\n21     This Star-Lord LEGO® BrickHeadz construction c...              Easy   \\n22     This Gamora LEGO® BrickHeadz construction char...               NaN   \\n23     This LEGO® BrickHeadz construction character f...              Easy   \\n24     Build your way to someone’s heart and say “Bee...              Easy   \\n25     This Wonder Woman™ LEGO® BrickHeadz constructi...              Easy   \\n26     The Flash™ LEGO® BrickHeadz construction chara...         Very Easy   \\n27     This LEGO® BrickHeadz construction character f...              Easy   \\n28     This LEGO® BrickHeadz construction character f...              Easy   \\n29     This Aquaman™ LEGO® BrickHeadz construction ch...         Very Easy   \\n...                                                  ...               ...   \\n12231  Recreate the hilarious scene from THE LEGO® BA...              Easy   \\n12232  Help Batman™ fend off Egghead™ and Condiment K...           Average   \\n12233  Join Batman’s pursuit of The Penguin in THE LE...              Easy   \\n12234  Take on four Super-Villains at once in THE LEG...              Easy   \\n12235  Glide over bumps in the Gotham City streets an...               NaN   \\n12236  Save Gotham City Energy Facility from a fear g...           Average   \\n12237  Help Batman™ defend the Gotham City Energy Fac...              Easy   \\n12238  Team up with Batman™ to stop Scarecrow™ spread...              Easy   \\n12239  Stage a face-off between The Joker™ and Batman...              Easy   \\n12240  Bring exciting new play possibilities to exist...         Very Easy   \\n12241  Take off from the Batcave in The Bat-Space Shu...           Average   \\n12242  Enjoy endless role-play fun in NINJAGO® City, ...       Challenging   \\n12243  Construct Wu’s huge ninja training base, Desti...       Challenging   \\n12244  Join a ninja mission to infiltrate THE LEGO® N...           Average   \\n12245  Help Lloyd to save Nomis and Nancy from Garmad...           Average   \\n12246  Fire ‘soundwaves’ from Cole’s Quake Mech to sa...           Average   \\n12247  Help Zane save Patty Keys and Torben from the ...           Average   \\n12248  Get set for sizzling battle action with this h...           Average   \\n12249  Save Ed and Edna from the shark army’s crab wi...           Average   \\n12250  Help Lloyd protect civilian Pat from attack by...           Average   \\n12251  Join Zane’s mission to infiltrate evil Garmado...           Average   \\n12252  Outwit The Green Ninja’s evil father Garmadon ...           Average   \\n12253  Launch into battle against the shark army and ...           Average   \\n12254  Team up with Wu and Kai to take on Jungle Garm...              Easy   \\n12255  Join ninja Jay in battle against the shark arm...           Average   \\n12256  Help Cole save Shen-Li in this cool THE LEGO® ...              Easy   \\n12257  Play out an action-packed Piranha Mech pursuit...              Easy   \\n12258  Team up with Lloyd Garmadon, Nya and Officer T...              Easy   \\n12259  Learn all the skills of Spinjitzu with THE LEG...         Very Easy   \\n12260  Join the ninja heroes at the dojo with this ac...              Easy   \\n\\n                                     set_name  star_rating  \\\\\\n0                       Bird Island Egg Heist          4.5   \\n1                          Piggy Plane Attack          5.0   \\n2                            Piggy Car Escape          4.3   \\n3              United States Capitol Building          4.6   \\n4               Solomon R. Guggenheim Museum®          4.6   \\n5                                    Shanghai          4.9   \\n6                               New York City          4.2   \\n7                           Buckingham Palace          4.7   \\n8                                      London          4.7   \\n9                                     Chicago          4.8   \\n10                            Arc de Triomphe          4.4   \\n11                           The Eiffel Tower          4.6   \\n12                                     Sydney          4.6   \\n13                     BOOST Creative Toolbox          3.4   \\n14                                Go Brick Me          4.8   \\n15                                Owen & Blue          5.0   \\n16                   Mr. Incredible & Frozone          5.0   \\n17                                 Chewbacca™          3.0   \\n18                                  Han Solo™          4.0   \\n19                              Iron Man MK50          4.7   \\n20                                     Thanos          5.0   \\n21                                  Star-Lord          5.0   \\n22                                     Gamora          5.0   \\n23                                       Finn          4.5   \\n24                            Valentine's Bee          4.9   \\n25                              Wonder Woman™          5.0   \\n26                                 The Flash™          4.0   \\n27                                  Kylo Ren™          5.0   \\n28                                        Rey          5.0   \\n29                                   Aquaman™          4.0   \\n...                                       ...          ...   \\n12231   The Justice League™ Anniversary Party          3.2   \\n12232                Egghead™ Mech Food Fight          4.8   \\n12233              The Penguin™ Arctic Roller          4.8   \\n12234               The Riddler™ Riddle Racer          4.2   \\n12235                      The Bat-Dune Buggy          4.5   \\n12236             Scarecrow™ Special Delivery          4.4   \\n12237                  Mr. Freeze™ Ice Attack          4.6   \\n12238             Scarecrow™ Fearful Face-off          4.1   \\n12239               The Joker™ Balloon Escape          4.7   \\n12240         THE LEGO® BATMAN MOVIE Series 2          4.8   \\n12241                   The Bat-Space Shuttle          4.8   \\n12242                           NINJAGO® City          4.9   \\n12243                        Destiny's Bounty          4.9   \\n12244  Temple of The Ultimate Ultimate Weapon          4.8   \\n12245           garmadon, Garmadon, GARMADON!          4.9   \\n12246                              Quake Mech          4.5   \\n12247                                Ice Tank          4.8   \\n12248                               Fire Mech          4.2   \\n12249                           Lightning Jet          5.0   \\n12250                         Garma Mecha Man          4.5   \\n12251                 Garmadon's Volcano Lair          4.3   \\n12252                 Green Ninja Mech Dragon          4.7   \\n12253                           Water Strider          4.5   \\n12254                            Master Falls          4.0   \\n12255                        Flying Jelly Sub          4.6   \\n12256                        Manta Ray Bomber          4.3   \\n12257                          Piranha Attack          3.6   \\n12258                     NINJAGO® City Chase          4.6   \\n12259                Lloyd - Spinjitzu Master          5.0   \\n12260                      Spinjitzu Training          4.7   \\n\\n                      theme_name  val_star_rating country  \\n0                   Angry Birds™              4.0      US  \\n1                   Angry Birds™              4.0      US  \\n2                   Angry Birds™              4.1      US  \\n3                   Architecture              4.3      US  \\n4                   Architecture              4.1      US  \\n5                   Architecture              4.4      US  \\n6                   Architecture              4.1      US  \\n7                   Architecture              4.3      US  \\n8                   Architecture              4.1      US  \\n9                   Architecture              4.5      US  \\n10                  Architecture              3.6      US  \\n11                  Architecture              4.4      US  \\n12                  Architecture              4.2      US  \\n13                         BOOST              3.5      US  \\n14                    BrickHeadz              4.8      US  \\n15                    BrickHeadz              5.0      US  \\n16                    BrickHeadz              5.0      US  \\n17                    BrickHeadz              4.0      US  \\n18                    BrickHeadz              4.0      US  \\n19                    BrickHeadz              4.5      US  \\n20                    BrickHeadz              5.0      US  \\n21                    BrickHeadz              5.0      US  \\n22                    BrickHeadz              NaN      US  \\n23                    BrickHeadz              4.0      US  \\n24                    BrickHeadz              4.7      US  \\n25                    BrickHeadz              5.0      US  \\n26                    BrickHeadz              3.0      US  \\n27                    BrickHeadz              4.8      US  \\n28                    BrickHeadz              4.5      US  \\n29                    BrickHeadz              3.0      US  \\n...                          ...              ...     ...  \\n12231     THE LEGO® BATMAN MOVIE              3.4      PT  \\n12232     THE LEGO® BATMAN MOVIE              4.6      PT  \\n12233     THE LEGO® BATMAN MOVIE              4.4      PT  \\n12234     THE LEGO® BATMAN MOVIE              4.4      PT  \\n12235     THE LEGO® BATMAN MOVIE              4.0      PT  \\n12236     THE LEGO® BATMAN MOVIE              4.1      PT  \\n12237     THE LEGO® BATMAN MOVIE              4.4      PT  \\n12238     THE LEGO® BATMAN MOVIE              4.4      PT  \\n12239     THE LEGO® BATMAN MOVIE              4.6      PT  \\n12240                Minifigures              4.0      PT  \\n12241     THE LEGO® BATMAN MOVIE              3.5      PT  \\n12242  THE LEGO® NINJAGO® MOVIE™              4.8      PT  \\n12243  THE LEGO® NINJAGO® MOVIE™              4.8      PT  \\n12244  THE LEGO® NINJAGO® MOVIE™              4.8      PT  \\n12245  THE LEGO® NINJAGO® MOVIE™              4.8      PT  \\n12246  THE LEGO® NINJAGO® MOVIE™              4.4      PT  \\n12247  THE LEGO® NINJAGO® MOVIE™              4.7      PT  \\n12248  THE LEGO® NINJAGO® MOVIE™              4.6      PT  \\n12249  THE LEGO® NINJAGO® MOVIE™              4.6      PT  \\n12250  THE LEGO® NINJAGO® MOVIE™              4.5      PT  \\n12251  THE LEGO® NINJAGO® MOVIE™              5.0      PT  \\n12252  THE LEGO® NINJAGO® MOVIE™              4.5      PT  \\n12253  THE LEGO® NINJAGO® MOVIE™              4.8      PT  \\n12254  THE LEGO® NINJAGO® MOVIE™              3.6      PT  \\n12255  THE LEGO® NINJAGO® MOVIE™              4.5      PT  \\n12256  THE LEGO® NINJAGO® MOVIE™              4.2      PT  \\n12257  THE LEGO® NINJAGO® MOVIE™              4.1      PT  \\n12258  THE LEGO® NINJAGO® MOVIE™              4.5      PT  \\n12259  THE LEGO® NINJAGO® MOVIE™              5.0      PT  \\n12260  THE LEGO® NINJAGO® MOVIE™              4.8      PT  \\n\\n[12261 rows x 14 columns]\""
      ]
     },
     "execution_count": 14,
     "metadata": {},
     "output_type": "execute_result"
    }
   ],
   "source": [
    "string_df = lambda x: str(x)\n",
    "string_df(df)"
   ]
  },
  {
   "cell_type": "markdown",
   "metadata": {},
   "source": [
    "Note that everything--even the `NaN` values, has been cast to a string in the example above. \n",
    "\n",
    "Note that for pandas Series objects (such as a single column in a DataFrame), we can do the same thing using the `apply()` method.  \n",
    "\n",
    "This is just one example of how we can quickly compute custom functions on our DataFrame--this will become especially useful when we learn how to **_normalize_** our datasets in a later section!\n",
    "\n",
    "## Summary\n",
    "\n",
    "In this lab, we learned how to:\n",
    "\n",
    "* Understand and use the df.describe() and df.info() summary statistics methods\n",
    "* Use built-in Pandas methods for calculating summary statistics (.mean(), .std(), .count(), .sum(), .mean(), .median(), .std(), .var() and .quantile())\n",
    "* Apply a function to every element in a Series or DataFrame using s.apply() and df.applymap()"
   ]
  },
  {
   "cell_type": "code",
   "execution_count": 17,
   "metadata": {},
   "outputs": [
    {
     "name": "stdout",
     "output_type": "stream",
     "text": [
      "<class 'pandas.core.frame.DataFrame'>\n",
      "RangeIndex: 12261 entries, 0 to 12260\n",
      "Data columns (total 14 columns):\n",
      "ages                 12261 non-null object\n",
      "list_price           12261 non-null float64\n",
      "num_reviews          10641 non-null float64\n",
      "piece_count          12261 non-null float64\n",
      "play_star_rating     10486 non-null float64\n",
      "prod_desc            11884 non-null object\n",
      "prod_id              12261 non-null float64\n",
      "prod_long_desc       12261 non-null object\n",
      "review_difficulty    10206 non-null object\n",
      "set_name             12261 non-null object\n",
      "star_rating          10641 non-null float64\n",
      "theme_name           12258 non-null object\n",
      "val_star_rating      10466 non-null float64\n",
      "country              12261 non-null object\n",
      "dtypes: float64(7), object(7)\n",
      "memory usage: 1.3+ MB\n"
     ]
    }
   ],
   "source": [
    "df.info()"
   ]
  },
  {
   "cell_type": "code",
   "execution_count": null,
   "metadata": {},
   "outputs": [],
   "source": []
  }
 ],
 "metadata": {
  "kernelspec": {
   "display_name": "Python 3",
   "language": "python",
   "name": "python3"
  },
  "language_info": {
   "codemirror_mode": {
    "name": "ipython",
    "version": 3
   },
   "file_extension": ".py",
   "mimetype": "text/x-python",
   "name": "python",
   "nbconvert_exporter": "python",
   "pygments_lexer": "ipython3",
   "version": "3.6.6"
  }
 },
 "nbformat": 4,
 "nbformat_minor": 2
}
